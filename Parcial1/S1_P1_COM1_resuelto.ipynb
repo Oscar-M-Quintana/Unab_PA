{
 "cells": [
  {
   "cell_type": "markdown",
   "metadata": {},
   "source": [
    "# Programación Avanzada 1er Parcial\n",
    "### Lunes 13/05/2024\n",
    "---"
   ]
  },
  {
   "cell_type": "markdown",
   "metadata": {},
   "source": [
    "#### 1) (2 puntos) Determinar si es correcta o no cada afirmación:\n",
    " 1. Afirmación Encapsulamiento significa crear una instancia de un objeto de una determinada clase. \n",
    "    ##### FALSO\n",
    " 2. Polimorfismo significa que una clase puede tener muchos métodos.\n",
    "    ##### FALSO\n",
    " 3. Una clase es una plantilla o estructura que se usa para definir objetos con determinados atributos y métodos\n",
    "    ##### VERDADERO"
   ]
  },
  {
   "cell_type": "markdown",
   "metadata": {},
   "source": [
    "#### 2) (4 puntos) Programar en Python incluyendo constructores, atributos y métodos para todas las clases en base al siguiente diagrama. Puede mejorar alguna definición de los atributos y de los métodos en caso de considerarlo oportuno.\n",
    "![Descripción de la imagen](../images/diagrama_parcialS1P1_image1.png)\n"
   ]
  },
  {
   "cell_type": "code",
   "execution_count": 12,
   "metadata": {},
   "outputs": [],
   "source": [
    "from datetime import datetime\n",
    "\n",
    "class Persona:\n",
    "    def __init__(self,nombre,correo_electronico, fecha_nacimiento) -> None:\n",
    "        self.nombre = nombre\n",
    "        self.correo_electronico = correo_electronico\n",
    "        self.fecha_nacimiento = datetime.strptime(fecha_nacimiento, '%d/%m/%Y')\n",
    "\n",
    "    def edad(self):\n",
    "        _fecha_actual = datetime.now()\n",
    "        return _fecha_actual.year - self.fecha_nacimiento.year\n",
    "\n",
    "class Oficinista (Persona):\n",
    "    def __init__(self, nombre, correo_electronico, fecha_nacimiento, oficina_asignada) -> None:\n",
    "        super().__init__(nombre, correo_electronico, fecha_nacimiento)\n",
    "        self._oficina_asignada = oficina_asignada\n",
    "\n",
    "    def get_oficina_asignada(self):\n",
    "        return self._oficina_asignada\n",
    "    \n",
    "    def set_oficina_asignada(self, nueva_oficina):\n",
    "        self._oficina_asignada = nueva_oficina\n",
    "\n",
    "class Obrero (Persona):\n",
    "    def __init__(self, nombre, correo_electronico, fecha_nacimiento, sector_asignado, rubro) -> None:\n",
    "        super().__init__(nombre, correo_electronico, fecha_nacimiento)\n",
    "        self.sector_asignado = sector_asignado\n",
    "        self.rubro = rubro"
   ]
  },
  {
   "cell_type": "code",
   "execution_count": 13,
   "metadata": {},
   "outputs": [
    {
     "name": "stdout",
     "output_type": "stream",
     "text": [
      "Edad de la persona: 34\n",
      "Oficina asignada: Oficina 123\n",
      "Oficina asignada antes del cambio: Oficina 456\n",
      "Oficina asignada después del cambio: Oficina 789\n",
      "Sector asignado: Sector A\n",
      "Rubro: Construcción\n"
     ]
    }
   ],
   "source": [
    "persona1 = Persona(\"Juan\", \"juan@example.com\", \"20/05/1990\")\n",
    "print(\"Edad de la persona:\", persona1.edad())\n",
    "\n",
    "oficinista1 = Oficinista(\"Ana\", \"ana@example.com\", \"15/09/1985\", \"Oficina 123\")\n",
    "print(\"Oficina asignada:\", oficinista1.get_oficina_asignada())\n",
    "\n",
    "oficinista2 = Oficinista(\"Pedro\", \"pedro@example.com\", \"10/04/1980\", \"Oficina 456\")\n",
    "print(\"Oficina asignada antes del cambio:\", oficinista2.get_oficina_asignada())\n",
    "oficinista2.set_oficina_asignada(\"Oficina 789\")\n",
    "print(\"Oficina asignada después del cambio:\", oficinista2.get_oficina_asignada())\n",
    "\n",
    "obrero1 = Obrero(\"Carlos\", \"carlos@example.com\", \"25/03/1975\", \"Sector A\", \"Construcción\")\n",
    "print(\"Sector asignado:\", obrero1.sector_asignado)\n",
    "print(\"Rubro:\", obrero1.rubro)\n"
   ]
  },
  {
   "cell_type": "markdown",
   "metadata": {},
   "source": [
    "#### 3) (4 puntos) ¿Qué resultado devuelve el siguiente código y por qué? ¿Se puede mejorar el código?:\n",
    "![Descripción de la imagen](../images/diagrama_parcialS1P1_image2.png)\n"
   ]
  },
  {
   "cell_type": "code",
   "execution_count": 26,
   "metadata": {},
   "outputs": [
    {
     "name": "stdout",
     "output_type": "stream",
     "text": [
      "Avalor_b\n"
     ]
    }
   ],
   "source": [
    "class ClaseA():\n",
    "    def __init__(self, valor_a, valor_b):\n",
    "        self.valor_a = valor_a\n",
    "\n",
    "    def get_valor_a(self):\n",
    "        return self.valor_a\n",
    "    \n",
    "class ClaseB(ClaseA):\n",
    "    def __init__(self, valor_a, valor_b):\n",
    "        super().__init__(valor_a, valor_b)\n",
    "        self.valor_b = 'valor_b'\n",
    "objetoB = ClaseB('A','B')\n",
    "print(objetoB.get_valor_a() + objetoB.valor_b)"
   ]
  },
  {
   "cell_type": "code",
   "execution_count": 27,
   "metadata": {},
   "outputs": [
    {
     "name": "stdout",
     "output_type": "stream",
     "text": [
      "AB\n",
      "A\n",
      "B\n"
     ]
    }
   ],
   "source": [
    "class ClaseA():\n",
    "\n",
    "    def __init__(self, valor_a):\n",
    "        \"\"\"\n",
    "        Quitaria el parametro valor_b\n",
    "        Con el fin de no generar un error al instanciar un objeto,\n",
    "        directamente de ClaseA. \n",
    "        Aunque si se instancia un objeto de ClaseA, y se asigna un valor\n",
    "        a ambos parametros, el de valor_b no tendria uso como atributo \n",
    "        \n",
    "        \"\"\"\n",
    "        self.valor_a = valor_a\n",
    "\n",
    "    def get_valor_a(self):\n",
    "        return self.valor_a\n",
    "    \n",
    "class ClaseB(ClaseA):\n",
    "    def __init__(self, valor_a, valor_b):\n",
    "        \"\"\"\n",
    "        Con respecto a este constructor sacaría las comillas\n",
    "        en valor_b.\n",
    "        \"\"\"\n",
    "        super().__init__(valor_a)\n",
    "        self.valor_b = valor_b\n",
    "objetoB = ClaseB('A', 'B')\n",
    "print(objetoB.get_valor_a() + objetoB.valor_b)\n",
    "print(objetoB.get_valor_a())\n",
    "print(objetoB.valor_b)"
   ]
  }
 ],
 "metadata": {
  "kernelspec": {
   "display_name": "Python 3",
   "language": "python",
   "name": "python3"
  },
  "language_info": {
   "codemirror_mode": {
    "name": "ipython",
    "version": 3
   },
   "file_extension": ".py",
   "mimetype": "text/x-python",
   "name": "python",
   "nbconvert_exporter": "python",
   "pygments_lexer": "ipython3",
   "version": "3.10.2"
  }
 },
 "nbformat": 4,
 "nbformat_minor": 2
}
