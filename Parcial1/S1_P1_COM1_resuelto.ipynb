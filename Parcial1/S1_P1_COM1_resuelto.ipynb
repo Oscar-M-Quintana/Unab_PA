{
 "cells": [
  {
   "cell_type": "markdown",
   "metadata": {},
   "source": [
    "# Programación Avanzada 1er Parcial\n",
    "### Lunes 13/05/2024\n",
    "---"
   ]
  },
  {
   "cell_type": "markdown",
   "metadata": {},
   "source": [
    "#### 1) (2 puntos) Determinar si es correcta o no cada afirmación:\n",
    " 1. Abstracción significa crear una instancia de un objeto de una determinada clase. \n",
    "    ##### FALSO\n",
    " 2. Polimorfismo significa que una clase puede tener muchos métodos.\n",
    "    ##### FALSO\n",
    " 3. Una clase es una plantilla o estructura que se usa para definir objetos con determinados atributos y métodos\n",
    "    ##### VERDADERO"
   ]
  },
  {
   "cell_type": "markdown",
   "metadata": {},
   "source": [
    "#### 2) (4 puntos) Programar en Python incluyendo constructores, atributos y métodos para todas las clases en base al siguiente diagrama. Puede mejorar alguna definición de los atributos y de los métodos en caso de considerarlo oportuno.\n",
    "![Descripción de la imagen](../images/diagrama_parcialS1P1_com1_image1.png)\n"
   ]
  },
  {
   "cell_type": "code",
   "execution_count": 4,
   "metadata": {},
   "outputs": [],
   "source": [
    "class Usuario:\n",
    "    def __init__(self,nombre,correo_electronico, password = \"0000\"):\n",
    "        self.nombre = nombre\n",
    "        self.correo_electronico = correo_electronico\n",
    "        self.password = password\n",
    "\n",
    "    def login(self):\n",
    "        ingreso = input(\"Ingrese su contraseña:\")\n",
    "        if ingreso == self.password:\n",
    "            print(f\"Bienvenido: {self.nombre}\")\n",
    "        else:\n",
    "            print(\"Contraseña incorrecta\")\n",
    "    \n",
    "    \n",
    "    def reset_password(self, nuevo_password):\n",
    "        self.password = nuevo_password\n",
    "\n",
    "    def logout(self):\n",
    "        salida = input(f\"Deas salir {self.nombre}: s/n\")\n",
    "        if salida =='s':\n",
    "            print(f\"Hasta luego {self.nombre}!!\")\n",
    "        else:\n",
    "            print(\"Sigamos!!\")\n",
    "\n",
    "\n",
    "class Administrador (Usuario):\n",
    "    def __init__(self, nombre, correo_electronico, password, nivel_accesos, fecha_expiracion):\n",
    "        super().__init__(nombre, correo_electronico, password)\n",
    "        self._nivel_accesos = nivel_accesos\n",
    "        self._fecha_expiracion = fecha_expiracion\n",
    "\n",
    "    def get_nivel_accesos(self):\n",
    "        return self._nivel_accesos\n",
    "    \n",
    "    def set_nivel_accesos(self, nuevo_nivel):\n",
    "        self._nivel_accesos = nuevo_nivel\n",
    "\n",
    "class Operador (Usuario):\n",
    "    def __init__(self, nombre, correo_electronico, password, sector) -> None:\n",
    "        super().__init__(nombre, correo_electronico, password)\n",
    "        self.sector = sector"
   ]
  },
  {
   "cell_type": "code",
   "execution_count": 6,
   "metadata": {},
   "outputs": [
    {
     "name": "stdout",
     "output_type": "stream",
     "text": [
      "Bienvenido: Carlos\n",
      "Bienvenido: Carlos\n",
      "Hasta luego Carlos!!\n"
     ]
    }
   ],
   "source": [
    "usuario1 = Usuario(\"Carlos\", \"carlos@example.com\")\n",
    "usuario1.login()\n",
    "usuario1.reset_password(\"1111\")\n",
    "usuario1.login()\n",
    "usuario1.logout()"
   ]
  },
  {
   "cell_type": "code",
   "execution_count": 7,
   "metadata": {},
   "outputs": [
    {
     "name": "stdout",
     "output_type": "stream",
     "text": [
      "Nivel de accesos del administrador: Alto\n",
      "Nuevo nivel de accesos del administrador: Muy Alto\n",
      "Bienvenido: Ana\n",
      "Hasta luego Ana!!\n"
     ]
    }
   ],
   "source": [
    "admin1 = Administrador(\"Ana\", \"ana@example.com\", \"admin1234\", \"Alto\", \"2024-12-31\")\n",
    "print(\"Nivel de accesos del administrador:\", admin1.get_nivel_accesos())\n",
    "admin1.set_nivel_accesos(\"Muy Alto\")\n",
    "print(\"Nuevo nivel de accesos del administrador:\", admin1.get_nivel_accesos())\n",
    "admin1.login()\n",
    "admin1.logout()"
   ]
  },
  {
   "cell_type": "code",
   "execution_count": 5,
   "metadata": {},
   "outputs": [
    {
     "name": "stdout",
     "output_type": "stream",
     "text": [
      "Sector del operador: Producción\n",
      "Bienvenido: Luis\n",
      "Contraseña incorrecta\n",
      "Sigamos!!\n"
     ]
    }
   ],
   "source": [
    "operador1 = Operador(\"Luis\", \"luis@example.com\", \"oper1234\", \"Producción\")\n",
    "operador1.login()\n",
    "operador1.reset_password(\"oper0000\")\n",
    "operador1.login()\n",
    "operador1.logout()"
   ]
  },
  {
   "cell_type": "markdown",
   "metadata": {},
   "source": [
    "#### 3) (4 puntos) ¿Qué resultado devuelve el siguiente código y por qué? ¿Se puede mejorar el código?:\n",
    "![Descripción de la imagen](../images/diagrama_parcialS1P1_com1_image2.png)\n"
   ]
  },
  {
   "cell_type": "code",
   "execution_count": 6,
   "metadata": {},
   "outputs": [
    {
     "name": "stdout",
     "output_type": "stream",
     "text": [
      "valor_aB\n"
     ]
    }
   ],
   "source": [
    "class ClaseA():\n",
    "    def __init__(self, valor_a, valor_b):\n",
    "        self.valor_a = 'valor_a'\n",
    "\n",
    "    def get_valor_a(self):\n",
    "        return self.valor_a\n",
    "    \n",
    "class ClaseB(ClaseA):\n",
    "    def __init__(self, valor_a, valor_b):\n",
    "        super().__init__(valor_a, valor_b)\n",
    "        self.valor_b = valor_b\n",
    "objetoB = ClaseB('A','B')\n",
    "print(objetoB.get_valor_a() + objetoB.valor_b)"
   ]
  },
  {
   "cell_type": "code",
   "execution_count": 7,
   "metadata": {},
   "outputs": [
    {
     "name": "stdout",
     "output_type": "stream",
     "text": [
      "AB\n",
      "A\n",
      "B\n"
     ]
    }
   ],
   "source": [
    "class ClaseA():\n",
    "\n",
    "    def __init__(self, valor_a):\n",
    "        \"\"\"\n",
    "        Quitaria el parametro valor_b\n",
    "        Con el fin de no generar un error al instanciar un objeto,\n",
    "        directamente de ClaseA. \n",
    "        Aunque si se instancia un objeto de ClaseA, y se asigna un valor\n",
    "        a ambos parametros, el de valor_b no tendria uso como atributo \n",
    "        \n",
    "        Ademas, sacaría las comillas\n",
    "        en valor_a, ya que no usa como atributo, el parametro dado,\n",
    "        solo guarda el string \"valor_a\".\n",
    "        \n",
    "        \"\"\"\n",
    "        self.valor_a = valor_a\n",
    "\n",
    "    def get_valor_a(self):\n",
    "        return self.valor_a\n",
    "    \n",
    "class ClaseB(ClaseA):\n",
    "    def __init__(self, valor_a, valor_b):\n",
    "        super().__init__(valor_a)\n",
    "        self.valor_b = valor_b\n",
    "objetoB = ClaseB('A', 'B')\n",
    "print(objetoB.get_valor_a() + objetoB.valor_b)\n",
    "print(objetoB.get_valor_a())\n",
    "print(objetoB.valor_b)"
   ]
  }
 ],
 "metadata": {
  "kernelspec": {
   "display_name": "Python 3",
   "language": "python",
   "name": "python3"
  },
  "language_info": {
   "codemirror_mode": {
    "name": "ipython",
    "version": 3
   },
   "file_extension": ".py",
   "mimetype": "text/x-python",
   "name": "python",
   "nbconvert_exporter": "python",
   "pygments_lexer": "ipython3",
   "version": "3.10.2"
  }
 },
 "nbformat": 4,
 "nbformat_minor": 2
}
