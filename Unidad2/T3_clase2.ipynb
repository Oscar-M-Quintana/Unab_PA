{
 "cells": [
  {
   "cell_type": "markdown",
   "metadata": {},
   "source": [
    "# T3: Codificación en Python 3\n",
    "## Clase 2. Unidad I. Codificación Python 3\n",
    "### Consideraciones:\n",
    "En base a un ejemplo que plantee el uso de dos clases con la relación “es un” definir:\n",
    "- Nombre de cada clase\n",
    "- Propiedades (al menos 2 por cada clase)\n",
    "- Métodos (al menos 2 por cada clase)\n",
    "- Instanciación de Objetos (al menos 2 objetos por cada clase)\n",
    "\n",
    "### Cómo estima que cumple con los pilares de la POO.\n",
    "- Encapsulamiento\n",
    "- Abstracción\n",
    "- Herencia\n",
    "- Polimorfismo\n"
   ]
  },
  {
   "cell_type": "code",
   "execution_count": null,
   "metadata": {},
   "outputs": [],
   "source": [
    "class Transporte_Publico:\n",
    "    def __init__(self, nombre, capacidad, costo, velocidad_promedio, distancia) -> None:\n",
    "        self.nombre = nombre\n",
    "        self.capacidad = capacidad\n",
    "        self._costo = costo\n",
    "        self._velocidad_promedio = velocidad_promedio\n",
    "        self.distancia = distancia\n",
    "\n",
    "    def __str__(self) -> str:\n",
    "        return f\"Nombre: {self.nombre}, capacidad: {self.capacidad}, costo: {self._costo}, velocidad promedio: {self._velocidad_promedio}km/h.\"\n",
    "    \n",
    "    def get_costo(self):\n",
    "        return self.costo\n",
    "    \n",
    "    def set_costo(self, nuevo_costo):\n",
    "        self.costo = nuevo_costo\n",
    "    \n",
    "    def set_distancia(self, nueva_distancia):\n",
    "        self.distancia = nueva_distancia\n",
    "\n",
    "    def __tiempo_viaje(self) -> str:\n",
    "        return str(self.distancia/self._velocidad_promedio) + \"Horas\"\n",
    "\n",
    "\n",
    "    \n",
    "    \n",
    "class Colectivo (Transporte_Publico):\n",
    "    def __init__(self, nombre, capacidad, costo, velocidad_promedio, empresa, linea, ramal) -> None:\n",
    "        super().__init__(nombre, capacidad, costo, velocidad_promedio)\n",
    "        self.empresa = empresa\n",
    "        self.linea = linea\n",
    "        self.ramal = ramal\n",
    "\n",
    "    def __str__(self) -> str:\n",
    "        return super().__str__() + f\"empresa: {self.empresa}, linea: {self.linea}, ramal: {self.ramal}\"\n",
    "    \n"
   ]
  },
  {
   "cell_type": "markdown",
   "metadata": {},
   "source": [
    "1. **Encapsulamiento**: Al crear atributos (*costo y velocidad promedio*) y metodos (*tiempo de viaje*) privados se cumple con este pilar.\n",
    "2. **Abstracción**: Se cumple con este pilar, con el uso de una estructura ordenada a la hora de instanciar cada objeto.\n",
    "3. **Herencia**: Al crear una clase hija, con el tipo de transporte (*Colectivo*), que hereda atributos y metodos de la clase padre (*clase Transporte*)\n",
    "4. **Polimorfismo**: Al crear métodos en la clase padre, que son luego utilizados de diferente manera por la clase hija."
   ]
  }
 ],
 "metadata": {
  "language_info": {
   "name": "python"
  }
 },
 "nbformat": 4,
 "nbformat_minor": 2
}
