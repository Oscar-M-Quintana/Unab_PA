{
 "cells": [
  {
   "cell_type": "markdown",
   "metadata": {},
   "source": [
    "# T3: Codificación en Python 3\n",
    "## Clase 2. Unidad I. Codificación Python 3\n",
    "### Consideraciones:\n",
    "En base a un ejemplo que plantee el uso de dos clases con la relación “es un” definir:\n",
    "- Nombre de cada clase\n",
    "- Propiedades (al menos 2 por cada clase)\n",
    "- Métodos (al menos 2 por cada clase)\n",
    "- Instanciación de Objetos (al menos 2 objetos por cada clase)\n",
    "\n",
    "### Cómo estima que cumple con los pilares de la POO.\n",
    "- Encapsulamiento\n",
    "- Abstracción\n",
    "- Herencia\n",
    "- Polimorfismo\n"
   ]
  },
  {
   "cell_type": "code",
   "execution_count": null,
   "metadata": {},
   "outputs": [],
   "source": []
  }
 ],
 "metadata": {
  "language_info": {
   "name": "python"
  }
 },
 "nbformat": 4,
 "nbformat_minor": 2
}
