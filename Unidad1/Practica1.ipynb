{
 "cells": [
  {
   "cell_type": "markdown",
   "metadata": {},
   "source": [
    "Práctica 1 - Unidad I\n",
    "1) Sobre el repositorio privado en GitHub:\n",
    "○ Busqué el texto TODO en el repositorio.\n",
    "○ ¿Cómo resolvería los interrogantes que plantea?\n",
    "○ Seleccionar 5 TODOs y resolverlos (en forma individual o grupal)"
   ]
  },
  {
   "cell_type": "code",
   "execution_count": 15,
   "metadata": {},
   "outputs": [
    {
     "data": {
      "text/plain": [
       "'Se agrega la clase Plano y Tridimencional, como una clase intermedia entre Figura y las especificas'"
      ]
     },
     "execution_count": 15,
     "metadata": {},
     "output_type": "execute_result"
    }
   ],
   "source": [
    "class Figura:\n",
    "    \"\"\"Clase base que representa una figura geométrica.\"\"\"\n",
    "\n",
    "    def __init__(self, lado):\n",
    "        \"\"\"Inicializa una figura con el lado especificado.\"\"\"\n",
    "        self.lado = lado\n",
    "\n",
    "class Plana(Figura):\n",
    "    \"\"\"Clase que representa una figura plana.\"\"\"\n",
    "\n",
    "    def superficie(self):\n",
    "        \"\"\"Método abstracto para calcular la superficie de la figura.\"\"\"\n",
    "        pass\n",
    "\n",
    "class Tridimensional(Figura):\n",
    "    \"\"\"Clase que representa una figura tridimensional.\"\"\"\n",
    "\n",
    "    def volumen(self):\n",
    "        \"\"\"Método abstracto para calcular el volumen de la figura.\"\"\"\n",
    "        pass\n",
    "\n",
    "class Cuadrado(Plana):\n",
    "    \"\"\"Clase que representa un cuadrado.\"\"\"\n",
    "\n",
    "    def perimetro(self):\n",
    "        \"\"\"Calcula el perímetro del cuadrado.\"\"\"\n",
    "        return self.lado * 4\n",
    "\n",
    "class Rectangulo(Plana):\n",
    "    \"\"\"Clase que representa un rectángulo.\"\"\"\n",
    "\n",
    "    def __init__(self, lado1, lado2):\n",
    "        \"\"\"Inicializa un rectángulo con los lados especificados.\"\"\"\n",
    "        self.lado1 = lado1 \n",
    "        self.lado2 = lado2 \n",
    "\n",
    "    def perimetro(self):\n",
    "        \"\"\"Calcula el perímetro del rectángulo.\"\"\"\n",
    "        return 2 * self.lado1 + 2 * self.lado2\n",
    "\n",
    "class Pentagono (Plana):\n",
    "    \"\"\"Clase que representa un pentágono.\"\"\"\n",
    "\n",
    "    def perimetro(self):\n",
    "        \"\"\"Calcula el perímetro del pentágono.\"\"\"\n",
    "        return 5 * self.lado\n",
    "    \n",
    "class Cubo(Tridimensional):\n",
    "    \"\"\"Clase que representa un cubo.\"\"\"\n",
    "\n",
    "    def volumen(self):\n",
    "        \"\"\"Calcula el volumen del cubo.\"\"\"\n",
    "        return self.lado ** 3\n",
    "\n",
    "\n",
    "# TODO: Pensar en otra posible herencia (taxonomía)\n",
    "\"Se agrega la clase Plano y Tridimencional, como una clase intermedia entre Figura y las especificas\"\n",
    "\n"
   ]
  },
  {
   "cell_type": "code",
   "execution_count": 14,
   "metadata": {},
   "outputs": [
    {
     "name": "stdout",
     "output_type": "stream",
     "text": [
      "8\n",
      "16\n",
      "14\n",
      "28\n",
      "216\n"
     ]
    }
   ],
   "source": [
    "# Pruebas\n",
    "c1 = Cuadrado(2)\n",
    "c2 = Cuadrado(4)\n",
    "print(c1.perimetro())\n",
    "print(c2.perimetro())\n",
    "\n",
    "r1 = Rectangulo(3,4)\n",
    "r2 = Rectangulo(4,10)\n",
    "print(r1.perimetro())\n",
    "print(r2.perimetro())\n",
    "\n",
    "cub1 = Cubo(6)\n",
    "print(cub1.volumen())"
   ]
  },
  {
   "cell_type": "code",
   "execution_count": 16,
   "metadata": {},
   "outputs": [],
   "source": [
    "class CuentaBancaria():\n",
    "    ''' Clase que nos permite la gestión de una Cuenta Bancaria genérica!\n",
    "    '''\n",
    "    \n",
    "    def __init__(self, saldo_inicial, nombre, apellido, moneda = '$'):\n",
    "        # TODO: Ver la forma de soportar cajas de ahorro y/o cuentas corrientes\n",
    "        \"Se crean Clases hijas por cada tipo\"\n",
    "        self.movimientos = []\n",
    "        self.saldo = saldo_inicial\n",
    "        self.nombre = nombre\n",
    "        self.apellido = apellido\n",
    "        self.moneda = moneda\n",
    "\n",
    "    def depositar(self, monto):\n",
    "        '''Método que nos permite realizar un depósito bancario'''\n",
    "        self.movimientos.append('DEPOSITO: ' + str(monto))\n",
    "        self.saldo = self.saldo + monto\n",
    "\n",
    "\n",
    "    def extraer(self, monto):\n",
    "        '''Método que nos permite realizar una extracción de un cuenta bancaria'''\n",
    "        if self.saldo - monto >= 0:\n",
    "            self.movimientos.append('EXTRACCION: ' + str(monto))\n",
    "            self.saldo = self.saldo - monto\n",
    "        else:\n",
    "            self.movimientos.append('SALDO INSUFICIENTE: ' + str(monto)) \n",
    "            print(\"Saldo insuficiente\")\n",
    "        \n",
    "\n",
    "    def datos_titular(self):\n",
    "        '''Método que nos permite mostrar los datos del titular y su saldo'''\n",
    "        return self.apellido + ', ' + self.nombre + \" con el saldo: \" + str(self.saldo) + \" \" + self.moneda\n",
    "    \n",
    "    def datos_saldo(self):\n",
    "        return self.saldo\n",
    "\n",
    "    def _reset_saldo(self):\n",
    "        self.saldo = 0 \n",
    "\n",
    "    def datos_movimientos(self):\n",
    "        return list(self.movimientos)\n",
    "    \n",
    "class CuentaCorriente(CuentaBancaria):\n",
    "    ''' Clase que representa una cuenta corriente.\n",
    "    '''\n",
    "\n",
    "    def datos_titular(self):\n",
    "        '''Método que nos permite mostrar los datos del titular y su saldo específico de la cuenta corriente'''\n",
    "        return super().datos_titular() + \" (Cuenta Corriente)\"\n",
    "\n",
    "\n",
    "class CajaAhorro(CuentaBancaria):\n",
    "    ''' Clase que representa una caja de ahorro.\n",
    "    '''\n",
    "\n",
    "    def datos_titular(self):\n",
    "        '''Método que nos permite mostrar los datos del titular y su saldo específico de la caja de ahorro'''\n",
    "        return super().datos_titular() + \" (Caja de Ahorro)\""
   ]
  },
  {
   "cell_type": "code",
   "execution_count": 22,
   "metadata": {},
   "outputs": [
    {
     "name": "stdout",
     "output_type": "stream",
     "text": [
      "Gonzalez, Juan con el saldo: 7000 $ (Cuenta Corriente)\n",
      "Pereyra, Veronica con el saldo: 9000 USD (Caja de Ahorro)\n"
     ]
    }
   ],
   "source": [
    "cc_juan = CuentaCorriente(7000,\"Juan\", \"Gonzalez\")\n",
    "print(cc_juan.datos_titular())\n",
    "\n",
    "ca_vero = CajaAhorro(9000, \"Veronica\", \"Pereyra\", \"USD\")\n",
    "print(ca_vero.datos_titular())"
   ]
  }
 ],
 "metadata": {
  "kernelspec": {
   "display_name": "Python 3",
   "language": "python",
   "name": "python3"
  },
  "language_info": {
   "codemirror_mode": {
    "name": "ipython",
    "version": 3
   },
   "file_extension": ".py",
   "mimetype": "text/x-python",
   "name": "python",
   "nbconvert_exporter": "python",
   "pygments_lexer": "ipython3",
   "version": "3.10.2"
  }
 },
 "nbformat": 4,
 "nbformat_minor": 2
}
