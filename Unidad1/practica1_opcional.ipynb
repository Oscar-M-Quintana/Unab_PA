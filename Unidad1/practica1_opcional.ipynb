{
 "cells": [
  {
   "cell_type": "code",
   "execution_count": null,
   "metadata": {},
   "outputs": [],
   "source": []
  },
  {
   "cell_type": "markdown",
   "metadata": {},
   "source": [
    "1) (Opcional) Seleccionar 2 (dos) de los pilares (o pilares asociados) y arme un breve resumen con:\n",
    "○ Breve explicación con sus palabras\n",
    "○ Programar un ejemplo en Python y explicar cómo aplica este concepto"
   ]
  },
  {
   "cell_type": "markdown",
   "metadata": {},
   "source": [
    "#Herencia\n",
    "Herencia, se refiere a que cuando uno crea una objeto, la clase generadora, puede heredar de una clase superior, llamada clase padre, metodos y atributos. La virtud de esto, se encuentra en la posibilidad de reutilizar codigo, al no ser reiterativo (duplicar codigo).\n",
    "\n",
    "#Polimorfismo\n",
    "Siguiendo el pilar de Herencia, el Polimorfismo refiere a cuando diferentes objetos responden de diferente manera a la misma orden, como por ejemplo un metodo\n",
    "\n",
    "En el ejemplo se ve claramente el uso de estos dos pilares, la clase Refrigerador, hereda atributos de la clase Electrodomestico, que a su vez hereda de la clase Producto. Por su parte el Polimorfismo se observa en la definición del método __str__, que se modifica en las diferentes clases hija, aunque es llamada de la misma forma."
   ]
  },
  {
   "cell_type": "code",
   "execution_count": null,
   "metadata": {},
   "outputs": [],
   "source": [
    "class Producto():\n",
    "    \"Clase Producto que posee atributos de marca, modelo y precio\"\n",
    "\n",
    "    def __init__(self, marca, modelo, precio):\n",
    "        self.marca = marca\n",
    "        self.modelo = modelo\n",
    "        self.precio = precio\n",
    "        \n",
    "    def __str__(self) -> str:\n",
    "        return f\"Marca: {self.marca}, Modelo: {self.modelo}, Precio: {self.precio}\"\n",
    "\n",
    "\n",
    "class Electrodomestico(Producto):\n",
    "\n",
    "    def __init__(self, marca, modelo, precio, color = \"s/d\"):\n",
    "        super().__init__(marca, modelo, precio)\n",
    "        self.color = color\n",
    "\n",
    "    def __str__(self) -> str:\n",
    "        return f\"{super().__str__()}, Color: {self.color}\"\n",
    "\n",
    "\n",
    "class Heladera(Electrodomestico):\n",
    "\n",
    "    def __init__(self, marca, modelo, precio, color, capacidad_litros):\n",
    "        super().__init__(marca, modelo, precio, color)\n",
    "        self.capacidad_litros = capacidad_litros\n",
    "\n",
    "    def __str__(self) -> str:\n",
    "        return f\"Heladera: {super().__str__()}, Capacidad de Litros: {self.capacidad_litros}lt.\"\n",
    "\n",
    "\n",
    "class Televisor(Electrodomestico):\n",
    "\n",
    "    def __init__(self, marca, modelo, precio, resolucion, pulgadas):\n",
    "        super().__init__(marca, modelo, precio)\n",
    "        self.resolucion = resolucion\n",
    "        self.pulgadas = pulgadas\n",
    "\n",
    "    def __str__(self) -> str:\n",
    "        return f'Televisor: {super().__str__()}, Resolucion: {self.resolucion}, Pulgadas: {self.pulgadas}\"'\n"
   ]
  },
  {
   "cell_type": "code",
   "execution_count": null,
   "metadata": {},
   "outputs": [
    {
     "name": "stdout",
     "output_type": "stream",
     "text": [
      "Heladera: Marca: LG, Modelo: InstaView Door-in-Door, Precio: 1200000, Color: negro, Capacidad de Litros: 60lt.\n",
      "Televisor: Marca: Sony, Modelo: X80J, Precio: 1450000, Color: s/d, Resolucion: LCD, Pulgadas: 65\"\n"
     ]
    }
   ],
   "source": [
    "heladera1 = Heladera(\"LG\", \"InstaView Door-in-Door\", 1200000, \"negro\", 60)\n",
    "print(heladera1)\n",
    "tv1 = Televisor(\"Sony\", \"X80J\", 1450000, \"LCD\", 65)\n",
    "print(tv1)"
   ]
  }
 ],
 "metadata": {
  "language_info": {
   "name": "python"
  }
 },
 "nbformat": 4,
 "nbformat_minor": 2
}
